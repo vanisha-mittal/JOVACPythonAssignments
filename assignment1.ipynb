{
 "cells": [
  {
   "cell_type": "code",
   "execution_count": 2,
   "id": "8046df40-546a-46ae-b966-64ec0d829d1b",
   "metadata": {},
   "outputs": [
    {
     "name": "stdin",
     "output_type": "stream",
     "text": [
      "enter divident 3\n",
      "enter divisor 0\n"
     ]
    },
    {
     "name": "stdout",
     "output_type": "stream",
     "text": [
      "Caught custom exception: Division by zero is not allowed.\n"
     ]
    }
   ],
   "source": [
    "class Custom(Exception):\n",
    "    def __init__(self, message):\n",
    "        super().__init__(message)\n",
    "\n",
    "def divide(a, b):\n",
    "    if b == 0:\n",
    "        raise Custom(\"Division by zero is not allowed.\")\n",
    "    return a / b\n",
    "\n",
    "try:\n",
    "    a=int(input(\"enter divident\"))\n",
    "    b=int(input(\"enter divisor\"))\n",
    "    result = divide(a,b)\n",
    "except Custom as e:\n",
    "    print(\"Caught custom exception:\", e)"
   ]
  },
  {
   "cell_type": "code",
   "execution_count": null,
   "id": "0690b767-6d70-4a52-b9d5-f4b542f5dca7",
   "metadata": {},
   "outputs": [],
   "source": [
    "import csv\n",
    "arr= [\n",
    "    [1, 2, 3],\n",
    "    [4, 5, 6],\n",
    "    [7, 8, 9]\n",
    "]\n",
    "\n",
    "print(\"Array:\")\n",
    "for row in arr:\n",
    "    print(row)\n",
    "\n",
    "with open(\"output.csv\", \"w\", newline=\"\") as file:\n",
    "    writer = csv.writer(file)\n",
    "    writer.writerows(arr)\n",
    "\n",
    "print(\"\\nData written to 'output.csv'.\")\n",
    "\n",
    "# 3. Read from CSV\n",
    "read_array = []\n",
    "with open(\"output.csv\", \"r\") as file:\n",
    "    reader = csv.reader(file)\n",
    "    for row in reader:\n",
    "        # Convert string to integer\n",
    "        read_array.append([int(cell) for cell in row])\n",
    "\n",
    "print(\"\\nData read from 'output.csv':\")\n",
    "for row in read_array:\n",
    "    print(row)\n"
   ]
  }
 ],
 "metadata": {
  "kernelspec": {
   "display_name": "Python 3 (ipykernel)",
   "language": "python",
   "name": "python3"
  },
  "language_info": {
   "codemirror_mode": {
    "name": "ipython",
    "version": 3
   },
   "file_extension": ".py",
   "mimetype": "text/x-python",
   "name": "python",
   "nbconvert_exporter": "python",
   "pygments_lexer": "ipython3",
   "version": "3.11.9"
  }
 },
 "nbformat": 4,
 "nbformat_minor": 5
}
