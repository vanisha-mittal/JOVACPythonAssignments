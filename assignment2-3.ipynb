{
 "cells": [
  {
   "cell_type": "code",
   "execution_count": 2,
   "id": "0e1a46dd-3641-4ce1-b7ab-75265fb3ddd2",
   "metadata": {},
   "outputs": [
    {
     "name": "stdout",
     "output_type": "stream",
     "text": [
      "1D array: shape=(10,), size=10, datatype=int32\n",
      "2D array: shape=(3, 3), size=9, datatype=int32\n",
      "3D array: shape=(3, 5, 3), size=45, datatype=float64\n"
     ]
    }
   ],
   "source": [
    "# Task 1: creating Arrays\n",
    "import numpy as np\n",
    "import pandas as pd\n",
    "\n",
    "arr1 = np.arange(1, 11)\n",
    "arr2 = np.arange(1, 10).reshape(3, 3)\n",
    "arr3 = np.random.rand(3, 5, 3)\n",
    "\n",
    "print(f\"1D array: shape={arr1.shape}, size={arr1.size}, datatype={arr1.dtype}\")\n",
    "print(f\"2D array: shape={arr2.shape}, size={arr2.size}, datatype={arr2.dtype}\")\n",
    "print(f\"3D array: shape={arr3.shape}, size={arr3.size}, datatype={arr3.dtype}\")"
   ]
  },
  {
   "cell_type": "code",
   "execution_count": 4,
   "id": "b582615b-e53c-4620-8886-ecd6598695a3",
   "metadata": {},
   "outputs": [
    {
     "name": "stdout",
     "output_type": "stream",
     "text": [
      "First 3: [10 20 30]\n",
      "Alternate: [10 30 50 70 90]\n",
      "Reversed: [90 80 70 60 50 40 30 20 10]\n"
     ]
    }
   ],
   "source": [
    "#Task 2: Array indexing and Slicing\n",
    "data = [10, 20, 30, 40, 50, 60, 70, 80, 90]\n",
    "na = np.array([10, 20, 30, 40, 50, 60, 70, 80, 90])\n",
    "\n",
    "f=na[:3]\n",
    "a=na[::2]\n",
    "r=na[::-1]\n",
    "\n",
    "print(\"First 3:\", f)\n",
    "print(\"Alternate:\", a)\n",
    "print(\"Reversed:\", r)"
   ]
  },
  {
   "cell_type": "code",
   "execution_count": 5,
   "id": "91e5de09-5d28-4161-ba37-38a4b7bf0250",
   "metadata": {},
   "outputs": [
    {
     "name": "stdout",
     "output_type": "stream",
     "text": [
      "A: [9 7 1 6 9]\n",
      "B: [11 20 19  5  5]\n",
      "Add: [20 27 20 11 14]\n",
      "Subtract: [ -2 -13 -18   1   4]\n",
      "Multiply: [ 99 140  19  30  45]\n",
      "Divide: [0.81818182 0.35       0.05263158 1.2        1.8       ]\n",
      "Dot Product: 333\n",
      "Mean of A: 6.4\n",
      "Median of A: 7.0\n",
      "Std Dev of A: 2.939387691339814\n",
      "Variance of A: 8.64\n",
      "Max in B: 20 at index 1\n",
      "Min in B: 5 at index 3\n"
     ]
    }
   ],
   "source": [
    "# Task 3: Mathematical Operations\n",
    "A = np.random.randint(1, 21, 5)\n",
    "B = np.random.randint(1, 21, 5)\n",
    "\n",
    "print(\"A:\", A)\n",
    "print(\"B:\", B)\n",
    "\n",
    "print(\"Add:\", A + B)\n",
    "print(\"Subtract:\", A - B)\n",
    "print(\"Multiply:\", A * B)\n",
    "print(\"Divide:\", A / B)\n",
    "\n",
    "print(\"Dot Product:\", np.dot(A, B))\n",
    "\n",
    "print(\"Mean of A:\", np.mean(A))\n",
    "print(\"Median of A:\", np.median(A))\n",
    "print(\"Std Dev of A:\", np.std(A))\n",
    "print(\"Variance of A:\", np.var(A))\n",
    "\n",
    "print(\"Max in B:\", np.max(B), \"at index\", np.argmax(B))\n",
    "print(\"Min in B:\", np.min(B), \"at index\", np.argmin(B))"
   ]
  },
  {
   "cell_type": "code",
   "execution_count": 6,
   "id": "e921263d-b300-4b73-9473-b1969cda49bc",
   "metadata": {},
   "outputs": [
    {
     "name": "stdout",
     "output_type": "stream",
     "text": [
      "2D Reshape:c [[ 1  2  3]\n",
      " [ 4  5  6]\n",
      " [ 7  8  9]\n",
      " [10 11 12]]\n",
      "3D Reshape:  [[[ 1  2  3]\n",
      "  [ 4  5  6]]\n",
      "\n",
      " [[ 7  8  9]\n",
      "  [10 11 12]]]\n",
      "Transposed:  [[ 1  4  7 10]\n",
      " [ 2  5  8 11]\n",
      " [ 3  6  9 12]]\n",
      "Transposed Shape: (3, 4)\n"
     ]
    }
   ],
   "source": [
    "# Task 4: Reshaping and Transposing\n",
    "arr=np.arange(1, 13)\n",
    "\n",
    "r_2D = arr.reshape(4, 3)\n",
    "r_3D = arr.reshape(2, 2, 3)\n",
    "t = r_2D.T\n",
    "\n",
    "print(\"2D Reshape:c\", r_2D)\n",
    "print(\"3D Reshape: \", r_3D)\n",
    "print(\"Transposed: \", t)\n",
    "print(\"Transposed Shape:\", t.shape)"
   ]
  },
  {
   "cell_type": "code",
   "execution_count": 8,
   "id": "9a92a425-e671-46b7-aa04-7334c899f297",
   "metadata": {},
   "outputs": [
    {
     "name": "stdout",
     "output_type": "stream",
     "text": [
      "[45 49 27 22 12 50 27 44 23 13 16 40 12 15 50]\n",
      "Greater than 25: [45 49 27 50 27 44 40 50]\n",
      "Replaced < 30 with 0: [45 49  0  0  0 50  0 44  0  0  0 40  0  0 50]\n",
      "Count divisible by 5: 13\n"
     ]
    }
   ],
   "source": [
    "# Task 5: Boolean Masking and Filtering \n",
    "Arr = np.random.randint(10, 51, 15)\n",
    "\n",
    "print(Arr)\n",
    "print(\"Greater than 25:\", Arr[Arr > 25])\n",
    "Arr[Arr < 30] = 0\n",
    "print(\"Replaced < 30 with 0:\", Arr)\n",
    "print(\"Count divisible by 5:\", np.sum(Arr % 5 == 0))"
   ]
  },
  {
   "cell_type": "code",
   "execution_count": 9,
   "id": "ad2dbf7f-36f3-404a-b64a-af87b576f4a5",
   "metadata": {},
   "outputs": [
    {
     "name": "stdout",
     "output_type": "stream",
     "text": [
      "Equally spaced values: [0.         0.11111111 0.22222222 0.33333333 0.44444444 0.55555556\n",
      " 0.66666667 0.77777778 0.88888889 1.        ]\n",
      "idt matrix:  [[1. 0. 0. 0.]\n",
      " [0. 1. 0. 0.]\n",
      " [0. 0. 1. 0.]\n",
      " [0. 0. 0. 1.]]\n",
      "Sorted random: [ 2 19 22 22 33 33 47 48 56 60 61 63 67 68 69 73 89 91 94 99]\n",
      "Top 5: [73 89 91 94 99]\n"
     ]
    }
   ],
   "source": [
    "# Task 6: Working with Built-in Functions \n",
    "l = np.linspace(0, 1, 10)\n",
    "idt = np.eye(4)\n",
    "random = np.sort(np.random.randint(1, 101, 20))\n",
    "largest = random[-5:]\n",
    "\n",
    "print(\"Equally spaced values:\", l)\n",
    "print(\"idt matrix: \", idt)\n",
    "print(\"Sorted random:\", random)\n",
    "print(\"Top 5:\", largest)"
   ]
  },
  {
   "cell_type": "code",
   "execution_count": 10,
   "id": "caf92ee0-037c-4f00-acc7-b812c5ff16c1",
   "metadata": {},
   "outputs": [
    {
     "name": "stdout",
     "output_type": "stream",
     "text": [
      "Matrix Multiplication Time: 0.039701223373413086\n",
      "Determinant: -5.733137794674754e+50\n",
      "Inverse:  [[ 28.83231846   2.6212711   -9.97747429 ...  17.97374958  -3.98209711\n",
      "    2.52716274]\n",
      " [-19.6931599   -1.74603604   7.30267658 ... -13.0178056    2.64802478\n",
      "   -0.9241424 ]\n",
      " [ -4.08440626  -0.49876876   1.18417265 ...  -2.23499688   0.45343634\n",
      "   -0.87246485]\n",
      " ...\n",
      " [-21.35486552  -1.14382495   8.56702098 ... -13.85030639   1.76022226\n",
      "    0.094413  ]\n",
      " [ 19.27683361   1.83289663  -7.92741769 ...  12.75840533  -1.44166216\n",
      "    0.27310331]\n",
      " [-21.53417041  -1.16700025   6.94311314 ... -11.84460593   2.03276896\n",
      "   -2.34673005]]\n"
     ]
    }
   ],
   "source": [
    "# Task 7: Generic \n",
    "import time\n",
    "A = np.random.rand(100, 100)\n",
    "B = np.random.rand(100, 100)\n",
    "\n",
    "start = time.time()\n",
    "product = np.dot(A, B)\n",
    "end = time.time()\n",
    "\n",
    "print(\"Matrix Multiplication Time:\", end - start)\n",
    "\n",
    "try:\n",
    "    det = np.linalg.det(product)\n",
    "    inv = np.linalg.inv(product)\n",
    "    print(\"Determinant:\", det)\n",
    "    print(\"Inverse: \", inv)\n",
    "except np.linalg.LinAlgError:\n",
    "    print(\"Matrix is not invertible.\")"
   ]
  },
  {
   "cell_type": "code",
   "execution_count": 11,
   "id": "42f42b0c-cd31-4a74-b0d5-e0561c1ecfdf",
   "metadata": {},
   "outputs": [],
   "source": [
    "# ----------------------------------------------------------------------\n",
    "# Part II Pandas tasks"
   ]
  },
  {
   "cell_type": "code",
   "execution_count": 13,
   "id": "633ea7eb-72e6-42bc-8bff-1310fa94f407",
   "metadata": {},
   "outputs": [
    {
     "name": "stdout",
     "output_type": "stream",
     "text": [
      "A    25\n",
      "B    30\n",
      "C    35\n",
      "D    40\n",
      "E    45\n",
      "dtype: int64\n",
      "First 3 elements: A    25\n",
      "B    30\n",
      "C    35\n",
      "dtype: int64\n",
      "Mean: 35.0 Median: 35.0 Std Dev: 7.905694150420948\n"
     ]
    }
   ],
   "source": [
    "# Task 1: Working with Series \n",
    "data = [25, 30, 35, 40, 45]\n",
    "pdf = pd.Series(data, index=['A', 'B', 'C', 'D', 'E'])\n",
    "\n",
    "print( pdf)\n",
    "print(\"First 3 elements:\", pdf[:3])\n",
    "print(\"Mean:\", pdf.mean(), \"Median:\", pdf.median(), \"Std Dev:\", pdf.std())"
   ]
  },
  {
   "cell_type": "code",
   "execution_count": 15,
   "id": "159c99c6-9780-470b-937c-855dbae5f1e6",
   "metadata": {},
   "outputs": [
    {
     "name": "stdout",
     "output_type": "stream",
     "text": [
      "First two rows:\n",
      "     Name  Age  Gender  Marks\n",
      "0  Alice   20  Female     85\n",
      "1    Bob   22    Male     78\n",
      "Columns: Index(['Name', 'Age', 'Gender', 'Marks'], dtype='object')\n",
      "Data types:\n",
      " Name      object\n",
      "Age        int64\n",
      "Gender    object\n",
      "Marks      int64\n",
      "dtype: object\n",
      "Summary stats:\n",
      "              Age      Marks\n",
      "count   5.000000   5.000000\n",
      "mean   20.400000  83.400000\n",
      "std     1.140175   7.334848\n",
      "min    19.000000  74.000000\n",
      "25%    20.000000  78.000000\n",
      "50%    20.000000  85.000000\n",
      "75%    21.000000  88.000000\n",
      "max    22.000000  92.000000\n",
      "With Passed column:\n",
      "     Name  Age  Gender  Marks  Passed\n",
      "0  Alice   20  Female     85    True\n",
      "1    Bob   22    Male     78   False\n",
      "2  Carol   19  Female     92    True\n",
      "3  David   21    Male     74   False\n",
      "4    Eve   20  Female     88    True\n"
     ]
    }
   ],
   "source": [
    "# Task 2: Creating and Inspecting DataFrames\\\n",
    "df = pd.DataFrame({\n",
    "    'Name': ['Alice', 'Bob', 'Carol', 'David', 'Eve'],\n",
    "    'Age': [20, 22, 19, 21, 20],\n",
    "    'Gender': ['Female', 'Male', 'Female', 'Male', 'Female'],\n",
    "    'Marks': [85, 78, 92, 74, 88]\n",
    "})\n",
    "\n",
    "print(\"First two rows:\\n\", df.head(2))\n",
    "print(\"Columns:\", df.columns)\n",
    "print(\"Data types:\\n\", df.dtypes)\n",
    "print(\"Summary stats:\\n\", df.describe())\n",
    "\n",
    "df['Passed'] = df['Marks'] >= 80\n",
    "print(\"With Passed column:\\n\", df)\n"
   ]
  },
  {
   "cell_type": "code",
   "execution_count": 17,
   "id": "73f02b8c-321d-4466-b9f8-3c55da82831f",
   "metadata": {},
   "outputs": [
    {
     "name": "stdout",
     "output_type": "stream",
     "text": [
      "Name & Marks:\n",
      "     Name  Marks\n",
      "0  Alice     85\n",
      "1    Bob     78\n",
      "2  Carol     92\n",
      "3  David     74\n",
      "4    Eve     88\n",
      "Marks greater than 80:\n",
      "     Name  Age  Gender  Marks  Passed\n",
      "0  Alice   20  Female     85    True\n",
      "2  Carol   19  Female     92    True\n",
      "4    Eve   20  Female     88    True\n",
      "Highest marks:\n",
      "     Name  Age  Gender  Marks  Passed\n",
      "2  Carol   19  Female     92    True\n"
     ]
    }
   ],
   "source": [
    "# Task 3: Data Selection and Filtering\n",
    "print(\"Name & Marks:\\n\", df[['Name', 'Marks']])\n",
    "print(\"Marks greater than 80:\\n\", df[df['Marks'] > 80])\n",
    "print(\"Highest marks:\\n\", df[df['Marks'] == df['Marks'].max()])"
   ]
  },
  {
   "cell_type": "code",
   "execution_count": 19,
   "id": "47550d23-363d-4413-913b-8a6f09e81900",
   "metadata": {},
   "outputs": [
    {
     "name": "stdout",
     "output_type": "stream",
     "text": [
      "Missing:\n",
      "     Name   Age  Gender  Marks Passed\n",
      "0  Alice  20.0  Female   85.0   True\n",
      "1    Bob  22.0    Male    NaN  False\n",
      "2  Carol  19.0  Female   92.0   True\n",
      "3  David  21.0    Male   74.0  False\n",
      "4    NaN   NaN     NaN    NaN    NaN\n",
      "Missing values:\n",
      "     Name    Age  Gender  Marks  Passed\n",
      "0  False  False   False  False   False\n",
      "1  False  False   False   True   False\n",
      "2  False  False   False  False   False\n",
      "3  False  False   False  False   False\n",
      "4   True   True    True   True    True\n",
      "filling and dropping:\n",
      "     Name   Age  Gender      Marks Passed\n",
      "0  Alice  20.0  Female  85.000000   True\n",
      "1    Bob  22.0    Male  83.666667  False\n",
      "2  Carol  19.0  Female  92.000000   True\n",
      "3  David  21.0    Male  74.000000  False\n"
     ]
    }
   ],
   "source": [
    "# Task 4: Handling Missing Data\n",
    "df.loc[1, 'Marks'] = None\n",
    "df.loc[4, 'Age'] = None\n",
    "\n",
    "print(\"Missing:\\n\", df)\n",
    "print(\"Missing values:\\n\", df.isnull())\n",
    "\n",
    "df['Marks'] = df['Marks'].fillna(df['Marks'].mean())\n",
    "df.dropna(subset=['Age'], inplace=True)\n",
    "print(\"filling and dropping:\\n\", df)"
   ]
  },
  {
   "cell_type": "code",
   "execution_count": 20,
   "id": "334f9b56-536c-4852-8f8e-222a2d239dd0",
   "metadata": {},
   "outputs": [
    {
     "name": "stdout",
     "output_type": "stream",
     "text": [
      "Group mean:\n",
      "          Age      Marks\n",
      "Gender                 \n",
      "Female  19.5  88.500000\n",
      "Male    21.5  78.833333\n",
      "Count by gender:\n",
      " Gender\n",
      "Female    2\n",
      "Male      2\n",
      "Name: count, dtype: int64\n"
     ]
    }
   ],
   "source": [
    "# Task 5: Grouping and Aggregation\n",
    "grp = df.groupby('Gender').agg({'Age': 'mean', 'Marks': 'mean'})\n",
    "count = df['Gender'].value_counts()\n",
    "\n",
    "print(\"Group mean:\\n\", grp)\n",
    "print(\"Count by gender:\\n\", count)"
   ]
  },
  {
   "cell_type": "code",
   "execution_count": 21,
   "id": "9440c70d-30fb-429f-ab26-422323c4bb23",
   "metadata": {},
   "outputs": [
    {
     "name": "stdout",
     "output_type": "stream",
     "text": [
      "Loaded:\n",
      "     Name   Age  Gender      Marks  Passed\n",
      "0  Alice  20.0  Female  85.000000    True\n",
      "1    Bob  22.0    Male  83.666667   False\n",
      "2  Carol  19.0  Female  92.000000    True\n",
      "3  David  21.0    Male  74.000000   False\n"
     ]
    }
   ],
   "source": [
    "# Task 6: Reading and Writing Data\n",
    "df.to_csv('students_data.csv', index=False)\n",
    "ndf = pd.read_csv('students_data.csv')\n",
    "print(\"Loaded:\\n\", ndf.head())"
   ]
  },
  {
   "cell_type": "code",
   "execution_count": null,
   "id": "6cc7320b-e230-4499-ac9b-12ebe1201d16",
   "metadata": {},
   "outputs": [],
   "source": []
  },
  {
   "cell_type": "code",
   "execution_count": null,
   "id": "8e8fa9ac-1fdd-4443-be71-e8e805b1cdbb",
   "metadata": {},
   "outputs": [],
   "source": []
  }
 ],
 "metadata": {
  "kernelspec": {
   "display_name": "Python 3 (ipykernel)",
   "language": "python",
   "name": "python3"
  },
  "language_info": {
   "codemirror_mode": {
    "name": "ipython",
    "version": 3
   },
   "file_extension": ".py",
   "mimetype": "text/x-python",
   "name": "python",
   "nbconvert_exporter": "python",
   "pygments_lexer": "ipython3",
   "version": "3.11.9"
  }
 },
 "nbformat": 4,
 "nbformat_minor": 5
}
